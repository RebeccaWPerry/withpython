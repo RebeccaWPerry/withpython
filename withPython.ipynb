{
 "cells": [
  {
   "cell_type": "markdown",
   "metadata": {
    "heading_collapsed": true
   },
   "source": [
    "# <font color=purple>You can do THAT with Python?</font>\n",
    "@techtogether, Boston University, March 23, 2019<br>\n",
    "Rebecca Perry, PhD, Senior Engineering Manager @Wayfair<br>"
   ]
  },
  {
   "cell_type": "markdown",
   "metadata": {},
   "source": [
    "# Get information from the web"
   ]
  },
  {
   "cell_type": "markdown",
   "metadata": {},
   "source": [
    "Demonstrate uses of Python for requesting info from the web.\n",
    "\n",
    "astronaut info: http://open-notify.org/Open-Notify-API/People-In-Space/\n",
    "\n",
    "mbta info: https://www.mbta.com/developers/v3-api\n",
    "\n",
    "requests package: http://docs.python-requests.org/en/master/\n",
    "alternatively use http.client: https://docs.python.org/3/library/http.client.html"
   ]
  },
  {
   "cell_type": "code",
   "execution_count": 2,
   "metadata": {},
   "outputs": [
    {
     "ename": "NameError",
     "evalue": "name 'requests' is not defined",
     "output_type": "error",
     "traceback": [
      "\u001b[0;31m---------------------------------------------------------------------------\u001b[0m",
      "\u001b[0;31mNameError\u001b[0m                                 Traceback (most recent call last)",
      "\u001b[0;32m<ipython-input-2-851821f12dbd>\u001b[0m in \u001b[0;36m<module>\u001b[0;34m()\u001b[0m\n\u001b[1;32m      2\u001b[0m \u001b[0;34m\u001b[0m\u001b[0m\n\u001b[1;32m      3\u001b[0m \u001b[0;31m#astronaut info\u001b[0m\u001b[0;34m\u001b[0m\u001b[0;34m\u001b[0m\u001b[0;34m\u001b[0m\u001b[0m\n\u001b[0;32m----> 4\u001b[0;31m \u001b[0mastrodata\u001b[0m \u001b[0;34m=\u001b[0m \u001b[0mrequests\u001b[0m\u001b[0;34m.\u001b[0m\u001b[0mget\u001b[0m\u001b[0;34m(\u001b[0m\u001b[0;34m'http://api.open-notify.org/astros.json'\u001b[0m\u001b[0;34m)\u001b[0m\u001b[0;34m\u001b[0m\u001b[0;34m\u001b[0m\u001b[0m\n\u001b[0m\u001b[1;32m      5\u001b[0m \u001b[0mprint\u001b[0m\u001b[0;34m(\u001b[0m\u001b[0mastrodata\u001b[0m\u001b[0;34m.\u001b[0m\u001b[0mjson\u001b[0m\u001b[0;34m(\u001b[0m\u001b[0;34m)\u001b[0m\u001b[0;34m)\u001b[0m\u001b[0;34m\u001b[0m\u001b[0;34m\u001b[0m\u001b[0m\n",
      "\u001b[0;31mNameError\u001b[0m: name 'requests' is not defined"
     ]
    }
   ],
   "source": [
    "#here's what happens if you try to use functionality that you haven't imported\n",
    "\n",
    "#astronaut info\n",
    "astrodata = requests.get('http://api.open-notify.org/astros.json')\n",
    "print(astrodata.json())"
   ]
  },
  {
   "cell_type": "code",
   "execution_count": 3,
   "metadata": {},
   "outputs": [
    {
     "name": "stdout",
     "output_type": "stream",
     "text": [
      "{'message': 'success', 'number': 6, 'people': [{'craft': 'ISS', 'name': 'Oleg Kononenko'}, {'craft': 'ISS', 'name': 'David Saint-Jacques'}, {'craft': 'ISS', 'name': 'Anne McClain'}, {'craft': 'ISS', 'name': 'Alexey Ovchinin'}, {'craft': 'ISS', 'name': 'Nick Hague'}, {'craft': 'ISS', 'name': 'Christina Koch'}]}\n"
     ]
    }
   ],
   "source": [
    "import requests\n",
    "import pprint\n",
    "\n",
    "#astronaut info\n",
    "astrodata = requests.get('http://api.open-notify.org/astros.json')\n",
    "print(astrodata.json())"
   ]
  },
  {
   "cell_type": "code",
   "execution_count": 4,
   "metadata": {},
   "outputs": [
    {
     "name": "stdout",
     "output_type": "stream",
     "text": [
      "There are 6 people in space\n"
     ]
    }
   ],
   "source": [
    "print('There are {} people in space'.format(astrodata.json()['number']))"
   ]
  },
  {
   "cell_type": "code",
   "execution_count": null,
   "metadata": {},
   "outputs": [],
   "source": [
    "for astronaut in astrodata.json()['people']:\n",
    "    print(astronaut['name'])"
   ]
  },
  {
   "cell_type": "code",
   "execution_count": null,
   "metadata": {
    "code_folding": []
   },
   "outputs": [],
   "source": [
    "#mbta info\n",
    "mbta = 'https://api-v3.mbta.com'\n",
    "\n",
    "#get station names\n",
    "response = requests.get(mbta+'/stops?filter[route_type]=0,1')\n",
    "stops = response.json()\n",
    "#id, platform_name\n",
    "station_ids = [(int(stop['id']),\n",
    "               stop['attributes']['description']) for stop in stops['data']]\n",
    "station_ids.sort()\n",
    "for station_name in station_ids:\n",
    "    print(station_name)"
   ]
  },
  {
   "cell_type": "code",
   "execution_count": null,
   "metadata": {
    "code_folding": []
   },
   "outputs": [],
   "source": [
    "#select station ID for Boston University West - Green Line - Inbound\n",
    "stop = '70142'\n",
    "\n",
    "mbtadata = requests.get(mbta+'/predictions?filter[stop]={}'\n",
    "                    '&page[limit]=5'.format(stop))\n",
    "print(mbtadata.json())"
   ]
  },
  {
   "cell_type": "code",
   "execution_count": null,
   "metadata": {},
   "outputs": [],
   "source": [
    "pprint.pprint(mbtadata.json())"
   ]
  },
  {
   "cell_type": "code",
   "execution_count": null,
   "metadata": {},
   "outputs": [],
   "source": [
    "for train in mbtadata.json()['data']:\n",
    "    arrivaltime = train['attributes']['arrival_time']\n",
    "    arrivaltime = arrivaltime.split('T')[1].split('-')[0]\n",
    "    print('Train expected at: ', arrivaltime)"
   ]
  },
  {
   "cell_type": "markdown",
   "metadata": {
    "collapsed": true,
    "heading_collapsed": true
   },
   "source": [
    "# Read and plot data"
   ]
  },
  {
   "cell_type": "markdown",
   "metadata": {
    "hidden": true
   },
   "source": [
    "Demonstrates use of Python for reading and plotting data from csv file.\n",
    "\n",
    "csv reading based on: https://realpython.com/python-csv/\n",
    "\n",
    "The csv, collections, and pprint modules are part of the Python Standard Library.\n",
    "\n",
    "matplotlib: https://matplotlib.org/\n",
    "*bundled with scientific distributions of Python such as Anaconda https://www.anaconda.com/\n",
    "\n",
    "The sample csv file used in this example is available at:\n",
    "https://drive.google.com/drive/folders/1giaGOhJYWIXfZzy-zxmbrUIOB9Y_ROdu"
   ]
  },
  {
   "cell_type": "code",
   "execution_count": null,
   "metadata": {
    "collapsed": true,
    "hidden": true
   },
   "outputs": [],
   "source": [
    "import csv\n",
    "from collections import Counter\n",
    "import matplotlib.pyplot as plt\n",
    "import pprint"
   ]
  },
  {
   "cell_type": "code",
   "execution_count": null,
   "metadata": {
    "collapsed": true,
    "hidden": true
   },
   "outputs": [],
   "source": [
    "#NOTE: for Python to find the csv file, you must CD (change directory) to the\n",
    "#directory containing the downloaded csv file or modify the csvfile variable\n",
    "#to be the full filepath for the csv file\n",
    "\n",
    "#sample csv is the 2018 Python Developer's Survey\n",
    "csvfile = 'python_psf_external_18.csv'"
   ]
  },
  {
   "cell_type": "code",
   "execution_count": null,
   "metadata": {
    "hidden": true
   },
   "outputs": [],
   "source": [
    "#import some of the data from the csv into a list\n",
    "usecase_responses = []\n",
    "with open(csvfile) as csv_file:\n",
    "    csv_reader = csv.reader(csv_file)\n",
    "    line_count = 0\n",
    "    for row in csv_reader:\n",
    "        if line_count == 0:\n",
    "            questions = [question for question in row]\n",
    "            pprint.pprint(questions)\n",
    "            usecase_index = questions.index('What do you use Python for the most?')\n",
    "            line_count += 1\n",
    "        else:\n",
    "            usecase_responses.append(row[usecase_index])\n",
    "            line_count += 1\n",
    "    print('\\nProcessed {} lines.'.format(line_count))"
   ]
  },
  {
   "cell_type": "code",
   "execution_count": null,
   "metadata": {
    "hidden": true
   },
   "outputs": [],
   "source": [
    "print(usecase_responses)"
   ]
  },
  {
   "cell_type": "code",
   "execution_count": null,
   "metadata": {
    "hidden": true
   },
   "outputs": [],
   "source": [
    "#how many responses were for each Python use case\n",
    "usecase_counts = Counter(usecase_responses)\n",
    "pprint.pprint(usecase_counts)"
   ]
  },
  {
   "cell_type": "code",
   "execution_count": null,
   "metadata": {
    "collapsed": true,
    "hidden": true
   },
   "outputs": [],
   "source": [
    "Counter?"
   ]
  },
  {
   "cell_type": "code",
   "execution_count": null,
   "metadata": {
    "hidden": true
   },
   "outputs": [],
   "source": [
    "#create a histogram\n",
    "\n",
    "#how many different use cases were there?\n",
    "n_usecases = len(usecase_counts)\n",
    "\n",
    "plt.figure(figsize=(10, 10))\n",
    "plt.barh(range(n_usecases), list(usecase_counts.values()))\n",
    "plt.xticks(fontsize=12)\n",
    "plt.yticks(range(n_usecases), list(usecase_counts.keys()),\n",
    "           rotation='horizontal', fontsize=12)\n",
    "plt.xlabel('Number of Respondents', fontsize=12)\n",
    "plt.title('2018 Python Developer Survey\\n'\n",
    "          'What do you use Python for the most?', fontsize=18)\n",
    "plt.tight_layout()\n",
    "plt.show()"
   ]
  },
  {
   "cell_type": "markdown",
   "metadata": {
    "heading_collapsed": true
   },
   "source": [
    "# Solve math problems"
   ]
  },
  {
   "cell_type": "markdown",
   "metadata": {
    "hidden": true
   },
   "source": [
    "Demonstrates use of Python for symbolic math using the SymPy package.\n",
    "\n",
    "SymPy: https://www.sympy.org/en/index.html\n",
    "\n",
    "matplotlib: https://matplotlib.org/\n",
    "*bundled with scientific distributions of Python such as Anaconda https://www.anaconda.com/\n",
    "\n",
    "Examples of using the SymPy package to solve equations and calculate\n",
    "derivatives."
   ]
  },
  {
   "cell_type": "code",
   "execution_count": null,
   "metadata": {
    "collapsed": true,
    "hidden": true
   },
   "outputs": [],
   "source": [
    "import sympy\n",
    "import matplotlib.pyplot as plt\n",
    "import numpy as np\n",
    "import IPython.display\n",
    "\n",
    "#sympy.init_printing(use_unicode=True)\n",
    "sympy.init_printing(use_latex='mathjax')\n",
    "\n",
    "x, y = sympy.symbols('x y')"
   ]
  },
  {
   "cell_type": "code",
   "execution_count": null,
   "metadata": {
    "hidden": true
   },
   "outputs": [],
   "source": [
    "#solve an eqaution for x\n",
    "xval = sympy.solve(sympy.Eq(x+5, 0), x)\n",
    "\n",
    "# most of the lines here are to print results nicely\n",
    "# very few lines are needed for the actual computation\n",
    "print('\\nsolve for x:')\n",
    "IPython.display.display(sympy.Eq(x+5, 0))\n",
    "print('\\nx is equal to')\n",
    "IPython.display.display(xval)"
   ]
  },
  {
   "cell_type": "code",
   "execution_count": null,
   "metadata": {
    "hidden": true
   },
   "outputs": [],
   "source": [
    "#solve another equation for x\n",
    "xval = sympy.solve(sympy.Eq(x**2, 2), x)\n",
    "print('\\nsolve for x:')\n",
    "IPython.display.display(sympy.Eq(x**2, 2))\n",
    "print('x is equal to')\n",
    "IPython.display.display(xval)"
   ]
  },
  {
   "cell_type": "code",
   "execution_count": null,
   "metadata": {
    "hidden": true
   },
   "outputs": [],
   "source": [
    "#solve an equation for y\n",
    "equation = sympy.Eq(x, 2*y+5)\n",
    "yexpression = sympy.solve(equation, y)\n",
    "print('\\nsolve for y:')\n",
    "IPython.display.display(equation)\n",
    "print('\\ny is equal to:')\n",
    "IPython.display.display(yexpression)"
   ]
  },
  {
   "cell_type": "code",
   "execution_count": null,
   "metadata": {
    "hidden": true
   },
   "outputs": [],
   "source": [
    "#take the derivative of a trig function\n",
    "equation = sympy.sin(x)\n",
    "deriv = sympy.diff(equation, x)\n",
    "print('\\nThe derivative of')\n",
    "IPython.display.display(equation)\n",
    "print('is')\n",
    "IPython.display.display(deriv)"
   ]
  },
  {
   "cell_type": "code",
   "execution_count": null,
   "metadata": {
    "hidden": true
   },
   "outputs": [],
   "source": [
    "#take the derivative of another expression\n",
    "equation = sympy.exp(x**2)\n",
    "deriv = sympy.diff(equation, x)\n",
    "print('\\nThe derivative of')\n",
    "IPython.display.display(equation)\n",
    "print('is')\n",
    "IPython.display.display(deriv)"
   ]
  },
  {
   "cell_type": "code",
   "execution_count": null,
   "metadata": {
    "hidden": true
   },
   "outputs": [],
   "source": [
    "sympy.plot(x**2,(x,0,5))"
   ]
  },
  {
   "cell_type": "code",
   "execution_count": null,
   "metadata": {
    "hidden": true
   },
   "outputs": [],
   "source": [
    "x = np.linspace(0,5,200)\n",
    "plt.plot(x,x**2)\n",
    "plt.show()"
   ]
  },
  {
   "cell_type": "markdown",
   "metadata": {
    "heading_collapsed": true
   },
   "source": [
    "# Modify colors in images"
   ]
  },
  {
   "cell_type": "markdown",
   "metadata": {
    "hidden": true
   },
   "source": [
    "Demonstrates that digital images are arrays of numbers than can be modified with NumPy.\n",
    "\n",
    "NumPy: http://www.numpy.org/\n",
    "\n",
    "matplotlib: https://matplotlib.org/\n",
    "*bundled with scientific distributions of Python such as Anaconda https://www.anaconda.com/\n",
    " \n",
    "imageio: https://imageio.github.io/    \n",
    "\n",
    "Looking for good color combinations for a presentation? Want to be colorblind friendly?<br>\n",
    "http://colorbrewer2.org"
   ]
  },
  {
   "cell_type": "code",
   "execution_count": null,
   "metadata": {
    "collapsed": true,
    "hidden": true
   },
   "outputs": [],
   "source": [
    "import imageio\n",
    "import numpy as np\n",
    "import matplotlib.pyplot as plt\n",
    "import scipy.ndimage as img\n",
    "import pprint"
   ]
  },
  {
   "cell_type": "code",
   "execution_count": null,
   "metadata": {
    "hidden": true
   },
   "outputs": [],
   "source": [
    "mbtamap = imageio.imread('mbta.png')\n",
    "pprint.pprint(mbtamap)\n",
    "print(np.shape(mbtamap))\n",
    "plt.figure(figsize=(16,16))\n",
    "plt.imshow(mbtamap)\n",
    "plt.show()"
   ]
  },
  {
   "cell_type": "code",
   "execution_count": null,
   "metadata": {
    "collapsed": true,
    "hidden": true
   },
   "outputs": [],
   "source": [
    "mbtared = [225, 39, 38]\n",
    "mbtablue = [15, 75, 145]\n",
    "mbtaorange = [241, 139, 33]\n",
    "mbtagreen = [0, 132, 69]\n",
    "mbtagray = [125, 134, 140]"
   ]
  },
  {
   "cell_type": "code",
   "execution_count": null,
   "metadata": {
    "hidden": true
   },
   "outputs": [],
   "source": [
    "redmask = np.all(mbtamap==mbtared, axis=2)\n",
    "print(redmask)\n",
    "plt.figure(figsize=[12,12])\n",
    "plt.imshow(redmask)\n",
    "plt.show()"
   ]
  },
  {
   "cell_type": "code",
   "execution_count": null,
   "metadata": {
    "collapsed": true,
    "hidden": true
   },
   "outputs": [],
   "source": [
    "bluemask = np.all(mbtamap==mbtablue, axis=2)\n",
    "orangemask = np.all(mbtamap==mbtaorange, axis=2)\n",
    "greenmask =  np.all(mbtamap==mbtagreen, axis=2)"
   ]
  },
  {
   "cell_type": "code",
   "execution_count": null,
   "metadata": {
    "hidden": true
   },
   "outputs": [],
   "source": [
    "mbtamap[redmask] = mbtaorange\n",
    "plt.figure(figsize=(16,16))\n",
    "plt.imshow(mbtamap)\n",
    "plt.show()"
   ]
  },
  {
   "cell_type": "code",
   "execution_count": null,
   "metadata": {
    "hidden": true
   },
   "outputs": [],
   "source": [
    "gray = mbtagray\n",
    "mbtamap[redmask] = mbtagray\n",
    "mbtamap[orangemask] = mbtagray\n",
    "mbtamap[bluemask] = mbtagray\n",
    "plt.figure(figsize=(16,16))\n",
    "plt.imshow(mbtamap[1000:2500, 500:3000])\n",
    "plt.show()"
   ]
  },
  {
   "cell_type": "markdown",
   "metadata": {
    "heading_collapsed": true
   },
   "source": [
    "# Find faces in images"
   ]
  },
  {
   "cell_type": "markdown",
   "metadata": {
    "hidden": true
   },
   "source": [
    "Demonstrates the use of opencv's machine learning model for recognizing faces and eyes.\n",
    "\n",
    "From: https://docs.opencv.org/3.4.3/d7/d8b/tutorial_py_face_detection.html"
   ]
  },
  {
   "cell_type": "code",
   "execution_count": null,
   "metadata": {
    "hidden": true
   },
   "outputs": [],
   "source": [
    "import numpy as np\n",
    "import cv2 as cv\n",
    "import os\n",
    "import matplotlib.pyplot as plt\n",
    "\n",
    "#replace with path to the haarcascades xml files on your own computer\n",
    "haardir = '/home/becca/anaconda3/share/OpenCV/haarcascades'\n",
    "face_cascade = cv.CascadeClassifier(haardir + os.sep + 'haarcascade_frontalface_default.xml')\n",
    "eye_cascade = cv.CascadeClassifier(haardir + os.sep + 'haarcascade_eye.xml')\n",
    "\n",
    "#im = imageio.imread('imageio:chelsea.png')\n",
    "im = imageio.imread('imageio:astronaut.png')\n",
    "plt.imshow(im)\n",
    "plt.show()"
   ]
  },
  {
   "cell_type": "code",
   "execution_count": null,
   "metadata": {
    "collapsed": true,
    "hidden": true
   },
   "outputs": [],
   "source": [
    "#convert to grayscale\n",
    "gray = cv.cvtColor(im, cv.COLOR_BGR2GRAY)\n",
    "\n",
    "faces = face_cascade.detectMultiScale(gray, 1.3, 5)"
   ]
  },
  {
   "cell_type": "code",
   "execution_count": null,
   "metadata": {
    "collapsed": true,
    "hidden": true
   },
   "outputs": [],
   "source": [
    "#add rectangles to faces found\n",
    "for (x,y,w,h) in faces:\n",
    "    cv.rectangle(im,(x,y),(x+w,y+h),(255,0,0),2)\n",
    "    roi_gray = gray[y:y+h, x:x+w]\n",
    "    roi_color = im[y:y+h, x:x+w]\n",
    "    eyes = eye_cascade.detectMultiScale(roi_gray)\n",
    "    for (ex,ey,ew,eh) in eyes:\n",
    "        cv.rectangle(roi_color,(ex,ey),(ex+ew,ey+eh),(0,255,0),2)"
   ]
  },
  {
   "cell_type": "code",
   "execution_count": null,
   "metadata": {
    "hidden": true
   },
   "outputs": [],
   "source": [
    "print('Astronaut Eileen Collins')\n",
    "plt.figure(figsize=(12,12))\n",
    "plt.imshow(im, cmap = 'gray', interpolation = 'bicubic')\n",
    "plt.xticks([])\n",
    "plt.yticks([])\n",
    "plt.show()"
   ]
  },
  {
   "cell_type": "code",
   "execution_count": null,
   "metadata": {
    "collapsed": true,
    "hidden": true
   },
   "outputs": [],
   "source": [
    "from PIL import Image\n",
    "import requests\n",
    "\n",
    "url = 'https://upload.wikimedia.org/wikipedia/commons/thumb/1/11/Stephanie_Wilson_in_2008.jpg/440px-Stephanie_Wilson_in_2008.jpg'\n",
    "im = imageio.imread(imageio.core.urlopen(url).read(), '.jpg')"
   ]
  },
  {
   "cell_type": "code",
   "execution_count": null,
   "metadata": {
    "hidden": true
   },
   "outputs": [],
   "source": [
    "#convert to grayscale\n",
    "gray = cv.cvtColor(im, cv.COLOR_BGR2GRAY)\n",
    "\n",
    "faces = face_cascade.detectMultiScale(gray, 1.3, 5)\n",
    "\n",
    "#add rectangles to faces found\n",
    "for (x,y,w,h) in faces:\n",
    "    cv.rectangle(im,(x,y),(x+w,y+h),(255,0,0),2)\n",
    "    roi_gray = gray[y:y+h, x:x+w]\n",
    "    roi_color = im[y:y+h, x:x+w]\n",
    "    eyes = eye_cascade.detectMultiScale(roi_gray)\n",
    "    for (ex,ey,ew,eh) in eyes:\n",
    "        cv.rectangle(roi_color,(ex,ey),(ex+ew,ey+eh),(0,255,0),2)\n",
    "\n",
    "print('Astronaut Stehanie Wilson')\n",
    "plt.figure(figsize=(12,12))\n",
    "plt.imshow(im, cmap = 'gray', interpolation = 'bicubic')\n",
    "plt.xticks([])\n",
    "plt.yticks([])\n",
    "plt.show()"
   ]
  },
  {
   "cell_type": "markdown",
   "metadata": {
    "collapsed": true,
    "heading_collapsed": true
   },
   "source": [
    "# <font color=purple>Control hardware and software</font>"
   ]
  },
  {
   "cell_type": "markdown",
   "metadata": {
    "hidden": true
   },
   "source": [
    "__Computer Graphics, 3D Art__<br>\n",
    "Wayfair's 3D API! Availabe for this hackathon! https://documenter.getpostman.com/view/427064/RWgqVK43<br>\n",
    "Blender: https://docs.blender.org/api/current/<br>\n",
    "3ds Max: http://docs.autodesk.com/3DSMAX/16/ENU/3ds-Max-Python-API-Documentation/index.html<br>\n",
    "\n",
    "__Home Automation/Voice Assistants__<br>\n",
    "Google Assistant: https://developers.google.com/assistant/sdk/guides/library/python/<br>\n",
    "Alexa Skills: https://developer.amazon.com/docs/sdk/alexa-skills-kit-sdk-for-python.html<br>\n",
    "Chromecast: https://github.com/balloob/pychromecast<br>\n",
    "Hue and other smart, color-changing lightbulbs<br>\n",
    "\n",
    "IFTTT to send alerts to your phone: https://medium.com/mai-piu-senza/connect-a-python-script-to-ifttt-8ee0240bb3aa<br>\n",
    "\n",
    "11 examples of things you can do with Python: https://realpython.com/what-can-i-do-with-python/\n"
   ]
  },
  {
   "cell_type": "markdown",
   "metadata": {
    "heading_collapsed": true
   },
   "source": [
    "# <font color=purple>How is Python used by companies?</font>"
   ]
  },
  {
   "cell_type": "markdown",
   "metadata": {
    "hidden": true
   },
   "source": [
    "Responses from Wayfair employees about how they use Python at work:<br>\n",
    "__Operations Research Team__<br>\n",
    "We use Python to create optimization models to improve Wayfair's logistics.\n",
    "\n",
    "Commonly used Libraries<br>\n",
    "typing<br>\n",
    "datetime<br>\n",
    "hypothesis<br>\n",
    "logging<br>\n",
    "collections<br>\n",
    "itertools<br>\n",
    "pytest<br>\n",
    "\n",
    "__Data Science__<br>\n",
    "We use python to explore data sets, process images, and train machine learning models.\n",
    "\n",
    "Commonly used Libraries<br>\n",
    "Pandas<br>\n",
    "NumPy<br>\n",
    "matplotlib<br>\n",
    "TensorFlow<br>\n",
    "\n",
    "__Search Tech Engineering__<br>\n",
    "We use Python as a query preprocessor to discover search intent, to process large amounts of data (for example building out our predictive suggestions), to discover spelling suggestions, and others\n",
    "\n",
    "__Order Processing Performance Engineering__<br>\n",
    "We use python for high concurrency, threaded order processing w/ sub processes.\n",
    "\n",
    "Examples of other companies using Python: https://www.netguru.com/blog/8-top-companies-that-use-python-for-their-apps-examples-of-top-notch-python-applications"
   ]
  },
  {
   "cell_type": "code",
   "execution_count": null,
   "metadata": {
    "collapsed": true,
    "hidden": true
   },
   "outputs": [],
   "source": []
  }
 ],
 "metadata": {
  "kernelspec": {
   "display_name": "Python 3",
   "language": "python",
   "name": "python3"
  },
  "language_info": {
   "codemirror_mode": {
    "name": "ipython",
    "version": 3
   },
   "file_extension": ".py",
   "mimetype": "text/x-python",
   "name": "python",
   "nbconvert_exporter": "python",
   "pygments_lexer": "ipython3",
   "version": "3.6.7"
  }
 },
 "nbformat": 4,
 "nbformat_minor": 2
}
